{
 "cells": [
  {
   "cell_type": "code",
   "execution_count": 2,
   "id": "428e5f7e-86d2-477c-8037-85df80440e45",
   "metadata": {},
   "outputs": [
    {
     "name": "stdin",
     "output_type": "stream",
     "text": [
      "Please enter a name: \n"
     ]
    },
    {
     "name": "stdout",
     "output_type": "stream",
     "text": [
      "My name is John Cena  \n"
     ]
    }
   ],
   "source": [
    "name = input(\"Please enter a name:\")\n",
    "def John_cena(name1):\n",
    "    print(\"My name is John Cena \",name1)\n",
    "\n",
    "John_cena(name)"
   ]
  },
  {
   "cell_type": "code",
   "execution_count": 4,
   "id": "318640ff-8b4e-438e-853f-cd6e8afa3677",
   "metadata": {},
   "outputs": [
    {
     "name": "stdout",
     "output_type": "stream",
     "text": [
      "14+11=25\n"
     ]
    }
   ],
   "source": [
    "x = 14\n",
    "y = 11\n",
    "sum_x_y = x+y\n",
    "print(f\"{x}+{y}={sum_x_y}\")"
   ]
  },
  {
   "cell_type": "code",
   "execution_count": 8,
   "id": "509a1e90-a052-4051-a588-53abfaedffe8",
   "metadata": {},
   "outputs": [
    {
     "name": "stdout",
     "output_type": "stream",
     "text": [
      "0\n",
      "1\n",
      "False\n",
      "True\n",
      "True\n"
     ]
    },
    {
     "name": "stderr",
     "output_type": "stream",
     "text": [
      "<>:6: SyntaxWarning: \"is\" with a literal. Did you mean \"==\"?\n",
      "<>:6: SyntaxWarning: \"is\" with a literal. Did you mean \"==\"?\n",
      "/var/folders/zr/svfyjsys5jvdgy_kh09m34wr0000gp/T/ipykernel_62909/1091073601.py:6: SyntaxWarning: \"is\" with a literal. Did you mean \"==\"?\n",
      "  print( (9 + 5) is (7 * 2) )\n"
     ]
    }
   ],
   "source": [
    "#and.or,not,in,is\n",
    "print(1 and 0)\n",
    "print(1 or 0)\n",
    "print(not 1)\n",
    "print('p' in \"power\")\n",
    "print( (9 + 5) is (7 * 2) )  "
   ]
  },
  {
   "cell_type": "code",
   "execution_count": 33,
   "id": "11e9d87c-3fa4-4fdf-947d-a6523ba5b4fe",
   "metadata": {},
   "outputs": [
    {
     "name": "stdout",
     "output_type": "stream",
     "text": [
      "We cannot divide by zero\n",
      "This is finally block\n",
      "The value of var1 / var2 is : \n"
     ]
    },
    {
     "ename": "AssertionError",
     "evalue": "Divide by 0 error",
     "output_type": "error",
     "traceback": [
      "\u001b[0;31m---------------------------------------------------------------------------\u001b[0m",
      "\u001b[0;31mAssertionError\u001b[0m                            Traceback (most recent call last)",
      "Cell \u001b[0;32mIn[33], line 17\u001b[0m\n\u001b[1;32m     15\u001b[0m \u001b[38;5;66;03m# by using assert keyword we will check if var2 is 0  \u001b[39;00m\n\u001b[1;32m     16\u001b[0m \u001b[38;5;28mprint\u001b[39m (\u001b[38;5;124m\"\u001b[39m\u001b[38;5;124mThe value of var1 / var2 is : \u001b[39m\u001b[38;5;124m\"\u001b[39m)  \n\u001b[0;32m---> 17\u001b[0m \u001b[38;5;28;01massert\u001b[39;00m var2 \u001b[38;5;241m!=\u001b[39m \u001b[38;5;241m0\u001b[39m, \u001b[38;5;124m\"\u001b[39m\u001b[38;5;124mDivide by 0 error\u001b[39m\u001b[38;5;124m\"\u001b[39m  \n\u001b[1;32m     18\u001b[0m \u001b[38;5;28mprint\u001b[39m (var1 \u001b[38;5;241m/\u001b[39m var2)\n",
      "\u001b[0;31mAssertionError\u001b[0m: Divide by 0 error"
     ]
    }
   ],
   "source": [
    "#try,except,finally\n",
    "var1 = 4  \n",
    "var2 = 0  \n",
    "    \n",
    "# Exception raised in the try section  \n",
    "try:  \n",
    "    d = var1 // var2 # this will raise a \"divide by zero\" exception.  \n",
    "    print( d )  \n",
    "# this section will handle exception raised in try block  \n",
    "except ZeroDivisionError:  \n",
    "    print(\"We cannot divide by zero\")  \n",
    "finally:  \n",
    "    # If exception is raised or not, this block will be executed every time  \n",
    "    print(\"This is finally block\")  \n",
    "# by using assert keyword we will check if var2 is 0  \n",
    "print (\"The value of var1 / var2 is : \")  \n",
    "assert var2 != 0, \"Divide by 0 error\"  \n",
    "print (var1 / var2)  "
   ]
  },
  {
   "cell_type": "code",
   "execution_count": 34,
   "id": "47a257ec-f5be-42bf-ba09-e99e897ef2c8",
   "metadata": {},
   "outputs": [
    {
     "name": "stdout",
     "output_type": "stream",
     "text": [
      "['A', 'B']\n"
     ]
    }
   ],
   "source": [
    "list_ = ['A','B','C']  \n",
    "del list_[2]  \n",
    "print(list_) "
   ]
  },
  {
   "cell_type": "code",
   "execution_count": 49,
   "id": "b5c91caf-1e7d-4128-9bfb-3282134635b9",
   "metadata": {},
   "outputs": [],
   "source": [
    "'''Numeric Literals (Integer, Floating-Point, Complex)\n",
    "String Literals (Single line, multi-line)\n",
    "Boolean Literals (True, False)\n",
    "Collection Literals (Lists, Tuples, Dictionaries, Sets)'''\n",
    "\n",
    "integer_num = 10      # Decimal integer  \n",
    "binary_num = 0b1010    # Binary integer  \n",
    "float_num = 20.5       # Standard floating-point number  \n",
    "scientific_num = 2.5e3  # Equivalent to 2500.0  \n",
    "negative_float = -0.99  # Negative floating-point number\n",
    "complex_num = 3 + 5j   #complex number\n",
    "\n",
    "#escape characters\n",
    "'''\\n - Newline\n",
    "\\t - Tab\n",
    "\\' - Single quote\n",
    "\\\" - Double quote\n",
    "\\\\ - Backslash'''\n",
    "\n",
    "string1 = \"Hello \"  \n",
    "string2 = \"World\"  \n",
    "concatenated = string1 + string2  # \"Hello World\"  \n",
    "repeated = string1 * 3  # \"Hello Hello Hello\"  \n",
    "\n",
    "#List Literals: Ordered and mutable collection \n",
    "list_1 = [1, 0.5, 'hello', 1+5j, 1.7e2, -12, 'welcome']\n",
    "#Tuple Literals: Ordered and immutable collection\n",
    "tuple_1 = (1, 0.5, 'hello', 1+5j, 1.7e2, -12, 'welcome')\n",
    "#Dictionary Literals: Key-value pairs \n",
    "dict1 = {'name': 'Alice', 'age': 25}\n",
    "#Set Literals: Unordered collection of unique items \n",
    "set1 = {1, 2, 3}\n",
    "set_2 = set([\"ginger\", \"lemon\", \"potato\", \"tomato\"])  \n",
    "set_3 = set(list_1)\n",
    "#range : 3 to 26 with step of 2\n",
    "r = range(3, 26, 2) \n"
   ]
  },
  {
   "cell_type": "code",
   "execution_count": 137,
   "id": "e232d42b-bb0d-490a-b2f4-18dd432d4a1f",
   "metadata": {},
   "outputs": [
    {
     "name": "stdout",
     "output_type": "stream",
     "text": [
      "For a = 46 and b = 4 \n",
      "Calculate the following:\n",
      "1. Addition of two numbers: a + b = 50\n",
      "2. Subtraction of two numbers: a - b = 42\n",
      "3. Multiplication of two numbers: a * b = 184\n",
      "4. Division of two numbers: a / b = 11.5\n",
      "5. Floor division of two numbers: a // b = 11\n",
      "6. Reminder of two numbers: a % b = 2\n",
      "7. Exponent of two numbers: a ** b = 4477456\n",
      "a & b : 0\n",
      "a and b : 8\n",
      "a | b : 15\n",
      "a ^ b : 15\n",
      "~a : -8\n",
      "a << b : 1792\n",
      "a >> b : 0\n"
     ]
    }
   ],
   "source": [
    "#Operators\n",
    "a = 46    # Initializing the value of a    \n",
    "b = 4     # Initializing the value of b    \n",
    "  \n",
    "print(\"For a =\", a, \"and b =\", b,\"\\nCalculate the following:\")  \n",
    "  \n",
    "# printing different results  \n",
    "print('1. Addition of two numbers: a + b =', a + b)    \n",
    "print('2. Subtraction of two numbers: a - b =', a - b)    \n",
    "print('3. Multiplication of two numbers: a * b =', a * b)    \n",
    "print('4. Division of two numbers: a / b =', a / b)    \n",
    "print('5. Floor division of two numbers: a // b =',a // b)    \n",
    "print('6. Reminder of two numbers: a % b =', a % b)    \n",
    "print('7. Exponent of two numbers: a ** b =',a ** b) \n",
    "\n",
    "#Bitwise Operators\n",
    "a = 7          # initializing the value of a    \n",
    "b = 8          # initializing the value of b    \n",
    "  \n",
    "# printing different results  \n",
    "print('a & b :', a & b) # bitwise Operator\n",
    "print('a and b :', a and b) # logical Operator\n",
    "print('a | b :', a | b)    \n",
    "print('a ^ b :', a ^ b) #XOR   \n",
    "print('~a :', ~a) #Bitwise NOT \n",
    "print('a << b :', a << b)    \n",
    "print('a >> b :', a >> b)   "
   ]
  },
  {
   "cell_type": "code",
   "execution_count": 45,
   "id": "72689ec4-b269-4ea0-91a0-37227dcab918",
   "metadata": {},
   "outputs": [
    {
     "name": "stdout",
     "output_type": "stream",
     "text": [
      "<class 'int'>\n",
      "<class 'str'>\n",
      "4487735888 4487735888\n",
      "20 10\n"
     ]
    },
    {
     "data": {
      "text/plain": [
       "['a', 'b', 'c']"
      ]
     },
     "execution_count": 45,
     "metadata": {},
     "output_type": "execute_result"
    }
   ],
   "source": [
    "#variables\n",
    "#Dynamically typed (data type is not specifically defined)\n",
    "a=10\n",
    "b='string'\n",
    "\n",
    "print(type(a))\n",
    "print(type(b))\n",
    "\n",
    "#variables are just pointers (b=a, only points to a, no separate memory allocated)\n",
    "a = 10  \n",
    "b = a  # 'b' also refers to the same object as 'a'  \n",
    "print(id(a), id(b))  # Both variables reference the same memory location\n",
    "\n",
    "#multiple assignment\n",
    "a, b, c = 110, 120, 130  \n",
    "\n",
    "#swapping without third variable\n",
    "a, b = 10, 20\n",
    "a, b = b, a\n",
    "print(a, b)\n",
    "\n",
    "#explicit conversion\n",
    "tuple_data = (1, 2, 3)  \n",
    "list_data = [4, 5, 6]  \n",
    "set_data = {7, 8, 9} \n",
    "list_of_tuples = [(\"name\", \"Alice\"), (\"age\", 25), (\"city\", \"New York\")] \n",
    "\n",
    "int(25.2) #: Converts any value to an integer.\n",
    "float(20) #: Converts any value to a floating-point number.\n",
    "str(45) #: Converts any value to a string.\n",
    "list('abc') #: Converts any value (like a string or tuple) into a list. \n",
    "\n",
    "list_from_tuple = list(tuple_data)  # tuple -> list  \n",
    "tuple_from_list = tuple(list_data)  # list -> tuple  \n",
    "set_from_list = set(list_data)  # list -> set    \n",
    "dict_from_list = dict(list_of_tuples)  # Explicit conversion: list -> dict    "
   ]
  },
  {
   "cell_type": "code",
   "execution_count": 80,
   "id": "277d61c1-86a5-4f15-bde2-995b589d685e",
   "metadata": {},
   "outputs": [
    {
     "name": "stdout",
     "output_type": "stream",
     "text": [
      "0.28174003118429003\n",
      "4\n",
      "15\n"
     ]
    }
   ],
   "source": [
    "import math as mt\n",
    "import random\n",
    "#number functions\n",
    "x=4\n",
    "y=-5\n",
    "abs(y)\n",
    "mt.ceil(x)\n",
    "mt.floor(y)\n",
    "max(x,y)\n",
    "min(x,y)\n",
    "mt.exp(x)\n",
    "mt.log(x)\n",
    "mt.log10(x)\n",
    "round(x,y)\n",
    "mt.sqrt(x)\n",
    "print(random.random())\n",
    "print(random.choice([1,4,6,8])) # can be used with any tuple,list,dict\n",
    "print(random.randint(2,17))"
   ]
  },
  {
   "cell_type": "code",
   "execution_count": 243,
   "id": "b22869d7-9913-4dc6-929a-3b4b79fbf33d",
   "metadata": {},
   "outputs": [
    {
     "name": "stdout",
     "output_type": "stream",
     "text": [
      "e\n",
      "Hell\n",
      "olleH\n",
      "el\n",
      "o\n",
      "False\n",
      "C:\\Users\\DEVANSH SHARMA\\Python32\\Lib\n",
      "C:\\\\Users\\\\DEVANSH SHARMA\\\\Python32\n",
      "Hello is the str1\n",
      "Wonderwomen\n",
      "2\n",
      "0\n",
      "WONDERWOMEN\n",
      "wonderwomen\n",
      "['a', 'good', 'day']\n",
      "['a good', 'day']\n"
     ]
    },
    {
     "data": {
      "text/plain": [
       "'Hello wonderwomen'"
      ]
     },
     "execution_count": 243,
     "metadata": {},
     "output_type": "execute_result"
    }
   ],
   "source": [
    "#string_manipulation\n",
    "str1 = \"Hello\"\n",
    "print(str1[1])\n",
    "print(str1[0:4]) #right extreme is not included\n",
    "print(str1[::-1])\n",
    "print(str1[-4:-2]) #rightmost character has index -1 not 0\n",
    "print(\"Hello\"[4])\n",
    "del str1\n",
    "str2 = \"wonderwomen\"\n",
    "str1 = \"Hello\"\n",
    "print('wo' not in str) # prints false as wo is present in str1.     \n",
    "print(\"C:\\\\Users\\\\DEVANSH SHARMA\\\\Python32\\\\Lib\")  \n",
    "print(r\"C:\\\\Users\\\\DEVANSH SHARMA\\\\Python32\") \n",
    "print(f\"{str1} is the str1\") #better than repeated string joining\n",
    "print(str2.capitalize())\n",
    "print(str2.count('wo',0,10))\n",
    "print(str2.index('wo',0,5))\n",
    "print(str2.upper())\n",
    "print(str2.lower())\n",
    "print(\"a good day\".split(\" \"))\n",
    "print('''a good\n",
    "day'''.split(\"\\n\"))\n",
    "len(str2)\n",
    "' '.join([str1,str2]) # must be passed as a list or tuple\n",
    "# to check if a string is -> isnumeric(),isalpha(),isupper(),islower(),isalpha(),isalnum(),istitle() (first capital rest lower)"
   ]
  },
  {
   "cell_type": "code",
   "execution_count": 119,
   "id": "6eceef8e-1049-4b00-9a81-905501c74088",
   "metadata": {
    "jupyter": {
     "source_hidden": true
    }
   },
   "outputs": [
    {
     "data": {
      "text/plain": [
       "True"
      ]
     },
     "execution_count": 119,
     "metadata": {},
     "output_type": "execute_result"
    }
   ],
   "source": [
    "type([1,2,3])==list"
   ]
  },
  {
   "cell_type": "code",
   "execution_count": 237,
   "id": "f67d4557-53de-4c35-b0ae-ca8ea8a755f9",
   "metadata": {},
   "outputs": [
    {
     "name": "stdout",
     "output_type": "stream",
     "text": [
      "Marks of student Itika are:  90\n",
      "Marks of student Parker are:  There is no student of name Parker in the records\n",
      "3\n",
      "2\n",
      "1\n",
      "Done\n"
     ]
    }
   ],
   "source": [
    "#Continue Statement -> It returns the control to the beginning of the loop.\n",
    "#Break -> It stops the execution of the loop statement\n",
    "#Pass -> Used for placeholding purposes, eat 5 star do nothing\n",
    "\n",
    "student_name_1 = 'Itika'  \n",
    "student_name_2 = 'Parker'\n",
    "record = {'Itika': 90, 'Arshia': 92, 'Peter': 46}  \n",
    "#can use else inside functions directly to return something if the (for/while) executes without break\n",
    "def marks( student_name ):  \n",
    "    for a_student in record: # for loop will iterate over the keys of the dictionary  \n",
    "        if a_student == student_name:  \n",
    "            return records[ a_student ]  \n",
    "            #break  \n",
    "    else:  \n",
    "        return f'There is no student of name {student_name} in the records'   \n",
    "\n",
    "print(f\"Marks of student {student_name_1} are: \",marks(student_name_1))\n",
    "print(f\"Marks of student {student_name_2} are: \",marks(student_name_2))\n",
    "\n",
    "x = 3  \n",
    "while x > 0:  \n",
    "    print(x)  \n",
    "    x -= 1  \n",
    "else:  \n",
    "    print(\"Done\")  # done is also printed since loop runs without breaking"
   ]
  },
  {
   "cell_type": "code",
   "execution_count": 301,
   "id": "6c8385eb-5510-466b-bdc3-a4db94b3410c",
   "metadata": {},
   "outputs": [
    {
     "name": "stdout",
     "output_type": "stream",
     "text": [
      "[7, 3, 4, 6]\n",
      "[7, 13, 3, 4, 6]\n",
      "[7, 13, 3, 4, 6, 14, 43, 37]\n",
      "[7, 13, 3, 4, 6, 14, 43]\n",
      "[7, 13, 3, 4, 14, 43]\n",
      "[7, 13, 4, 14, 43]\n",
      "81 43 4\n",
      "[4, 7, 13, 14, 43]\n",
      "[4, 7, 13, 14, 43]\n",
      "[43, 14, 13, 7, 4]\n",
      "1\n",
      "3\n"
     ]
    },
    {
     "data": {
      "text/plain": [
       "5"
      ]
     },
     "execution_count": 301,
     "metadata": {},
     "output_type": "execute_result"
    }
   ],
   "source": [
    "#List - Ordered, Changeable, Repeated items allowed, diff data types allowed\n",
    "my_lst = [7, 3, 4] \n",
    "\n",
    "my_lst.append(6)  \n",
    "print(my_lst)   \n",
    "\n",
    "my_lst.insert(1, 13)  \n",
    "print(my_lst)  \n",
    "  \n",
    "my_lst.extend([14, 43, 37])  \n",
    "print(my_lst)  \n",
    "\n",
    "my_lst.pop()\n",
    "print(my_lst)\n",
    "\n",
    "my_lst.remove(6)\n",
    "print(my_lst)\n",
    "\n",
    "del my_lst[2]\n",
    "print(my_lst)\n",
    "\n",
    "print(sum(my_lst),max(my_lst),min(my_lst))\n",
    "\n",
    "my_lst1 = sorted(my_lst)\n",
    "print(my_lst1)\n",
    "\n",
    "my_lst.sort() # cannot be assigned to a variable\n",
    "print(my_lst)\n",
    "\n",
    "my_lst.reverse()\n",
    "print(my_lst)\n",
    "\n",
    "print(my_lst.count(7))\n",
    "print(my_lst.index(7))\n",
    "\n",
    "len(my_lst)"
   ]
  },
  {
   "cell_type": "code",
   "execution_count": 311,
   "id": "0de298bd-d4c3-42d5-af82-ac744ce58278",
   "metadata": {},
   "outputs": [
    {
     "name": "stdout",
     "output_type": "stream",
     "text": [
      "Type of the variable 'singleTuple' => <class 'str'>\n",
      "Type of the variable 'singleTuple' => <class 'tuple'>\n",
      "('mango', 'orange', 'banana', 'apple', 'papaya', 'pineapple')\n",
      "mango, orange, ['banana', 'apple', 'papaya', 'pineapple']\n"
     ]
    }
   ],
   "source": [
    "#tuples - immutable, Ordered, diff data types allowed\n",
    "#tuples are more memory efficient\n",
    "\n",
    "singleTuple = (\"Arnold\")  \n",
    "print(\"Type of the variable 'singleTuple' =>\", type(singleTuple))  # returns <class 'str'>  \n",
    "  \n",
    "# Creating a tuple that has only one element  \n",
    "singleTuple = (\"Arnold\",)  # \",\" is important  \n",
    "print(\"Type of the variable 'singleTuple' =>\", type(singleTuple))  #returns <tuple>\n",
    "\n",
    "#indexing and slicing similar to list\n",
    "#adding two tuples\n",
    "fruits_tuple = (\"mango\", \"orange\", \"banana\", \"apple\", \"papaya\") \n",
    "temp_tuple = (\"pineapple\", ) \n",
    "fruits_tuple += temp_tuple\n",
    "print(fruits_tuple)\n",
    "\n",
    "#assigning variable to each tuple index\n",
    "(varOne, varTwo, *varThree) = fruits_tuple \n",
    "print(f\"{varOne}, {varTwo}, {varThree}\")\n",
    "\n",
    "#looping, indexing, slicing is similar to lists\n",
    "#some methods for tuples\n",
    "resultTwo = fruits_tuple.count('mango')  \n",
    "resultFour = fruits_tuple.index('mango', 0, 3)  \n",
    "largest_element2 = max(fruits_tuple)  \n",
    "smallest_element2 = min(fruits_tuple)  \n",
    "length_of_tuple = len(fruits_tuple) "
   ]
  },
  {
   "cell_type": "code",
   "execution_count": 341,
   "id": "976772d8-bf93-485c-80a9-90d685325adb",
   "metadata": {},
   "outputs": [
    {
     "name": "stdout",
     "output_type": "stream",
     "text": [
      "set()\n"
     ]
    },
    {
     "data": {
      "text/plain": [
       "False"
      ]
     },
     "execution_count": 341,
     "metadata": {},
     "output_type": "execute_result"
    }
   ],
   "source": [
    "#sets - unordered,unique,mutable (the members should be immutable(list,tuple,dict not allowed)),diff data types allowed\n",
    "set5 = {1,2,4,4,5,8,9,9,10} \n",
    "set3 = set()     #to create empty set\n",
    "set3.add(11)\n",
    "set5.update([12,12,13,14])     #for multiple elements\n",
    "set5.discard(2)     #doesn't throw error\n",
    "#set5.remove(2)    #throws error if element not present\n",
    "set5.pop()     #works but since set is unordered pops a random member\n",
    "set5.clear()    #all memebers are cleared\n",
    "\n",
    "set5.union(set3)        #set5 union set3\n",
    "set5.intersection(set3)       #set5 intersection set3\n",
    "print(set5-set3)        #set5 - set5 intersection set3\n",
    "\n",
    "a = {\"Devansh\", \"bob\", \"castle\"}    \n",
    "b = {\"castle\", \"dude\", \"emyway\"}    \n",
    "c = {\"fuson\", \"gaurav\", \"castle\"}    \n",
    "    \n",
    "a.intersection_update(b, c)    #just to assign it to existing variable \n",
    "d= a.intersection(b, c) \n",
    "a == d \n",
    "\n",
    "#==: checks if two sets have the same elements, regardless of their order.\n",
    "set5 == set3\n",
    "#!=: checks if two sets are not equal.\n",
    "set5 != set3\n",
    "#<: checks if the left set is a proper subset of the right set (all elements in the left set are also in the right set, but the right set has additional elements).\n",
    "set5 < set3\n",
    "#>: checks if the right set is a proper subset of the left set (all elements in the right set are there is the left set, but left set has some extra)\n",
    "set5 > set3\n",
    "\n",
    "#Frozen set objects are unordered collections of unique elements, just like sets. They can be used the same way as sets, except they cannot be\n",
    "#modified.Because they are immutable, frozen set objects can be used as elements of other sets or dictionary keys, while standard sets cannot."
   ]
  },
  {
   "cell_type": "code",
   "execution_count": 357,
   "id": "82217de8-3c66-42b2-b74f-e02cb4fc61ac",
   "metadata": {},
   "outputs": [
    {
     "name": "stdout",
     "output_type": "stream",
     "text": [
      "Facebook\n"
     ]
    }
   ],
   "source": [
    "#dictionary - A dictionary is, in other words, a group of key-value pairs, where the values can be any Python object. \n",
    "#The keys, in contrast, are immutable Python objects, such as strings, tuples, or numbers. Dictionary entries are ordered\n",
    "Dict = {\"Name\": \"Gayle\", \"Age\": 25}   \n",
    "\n",
    "dict = {1: \"Hcl\", 2: \"WIPRO\", 3: \"Facebook\", 4: \"Amazon\", 5: \"Flipkart\"}    \n",
    "# get() method    \n",
    "print(dict[3]) "
   ]
  }
 ],
 "metadata": {
  "kernelspec": {
   "display_name": "Python [conda env:base] *",
   "language": "python",
   "name": "conda-base-py"
  },
  "language_info": {
   "codemirror_mode": {
    "name": "ipython",
    "version": 3
   },
   "file_extension": ".py",
   "mimetype": "text/x-python",
   "name": "python",
   "nbconvert_exporter": "python",
   "pygments_lexer": "ipython3",
   "version": "3.9.21"
  }
 },
 "nbformat": 4,
 "nbformat_minor": 5
}
