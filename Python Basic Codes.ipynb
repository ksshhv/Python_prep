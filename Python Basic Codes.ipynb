{
 "cells": [
  {
   "cell_type": "code",
   "execution_count": 1,
   "id": "db2ddb49-2cbb-47b6-833e-6a73d22079ff",
   "metadata": {},
   "outputs": [
    {
     "name": "stdout",
     "output_type": "stream",
     "text": [
      "11\n",
      "13\n",
      "17\n",
      "19\n",
      "23\n"
     ]
    }
   ],
   "source": [
    "#Write a Python program to find the first 5 prime numbers between 10 and 50,\n",
    "#but skip any number that ends with 5, and stop the loop if a number is divisible by 21.\n",
    "def is_prime(num):\n",
    "    if num<2:\n",
    "        return False\n",
    "    i = 2\n",
    "    while i*i <= num:\n",
    "        if num%i==0 :\n",
    "            return False\n",
    "        i+=1\n",
    "    return True\n",
    "\n",
    "count=0\n",
    "for i in range(10,50):\n",
    "    if i%10 == 5 :\n",
    "        continue\n",
    "    elif i%31==0 :\n",
    "        break\n",
    "    elif is_prime(i):\n",
    "        print(i)\n",
    "        count+=1\n",
    "    if count==5:\n",
    "        break\n",
    "    i+=1"
   ]
  },
  {
   "cell_type": "code",
   "execution_count": 3,
   "id": "83baff67-2f95-42e1-b045-5ddcbe29ce0c",
   "metadata": {},
   "outputs": [
    {
     "name": "stdout",
     "output_type": "stream",
     "text": [
      "101\n"
     ]
    }
   ],
   "source": [
    "#Write a program to find and print the first 5 numbers between 100 and 200 that are palindromes \n",
    "#(numbers that read the same backward), but skip numbers divisible by 11, and stop the search if a number contains the digit 7\n",
    "\n",
    "def is_palindrome(num):\n",
    "    if str(num)[::-1]==str(num):\n",
    "        return True\n",
    "    return False\n",
    " \n",
    "count = 0\n",
    "for i in range(100,200):\n",
    "    if i%11==0 :\n",
    "        continue\n",
    "    elif '7' in str(i) :\n",
    "        break\n",
    "    elif is_palindrome(i) :\n",
    "        print(i)\n",
    "        count +=1\n",
    "        if count == 5 :\n",
    "            break\n",
    "    i+=1\n"
   ]
  },
  {
   "cell_type": "code",
   "execution_count": 5,
   "id": "52e275f7-2e61-41c3-a02e-de1fe3297d44",
   "metadata": {},
   "outputs": [
    {
     "name": "stdout",
     "output_type": "stream",
     "text": [
      "153\n",
      "370\n",
      "371\n",
      "407\n"
     ]
    }
   ],
   "source": [
    "'''Write a program to find the first 5 Armstrong numbers between 100 and 1000.\n",
    "An Armstrong number of 3 digits is a number such that\n",
    "abc = a³ + b³ + c³,\n",
    "where a, b, and c are the digits of the number.\n",
    "Example: 153 = 1³ + 5³ + 3³ = 153 → ✅ Armstrong'''\n",
    "\n",
    "def is_armstrong(num):\n",
    "    l1 = list(str(num))\n",
    "    num_cube = 0\n",
    "    for i in range(len(l1)):\n",
    "        num_cube += int(l1[i])**3\n",
    "    if(num_cube==num):\n",
    "        return True\n",
    "    return False\n",
    "\n",
    "count = 0\n",
    "for i in range(100,1000):\n",
    "    if is_armstrong(i):\n",
    "        print(i)\n",
    "        count += 1\n",
    "        if count==5:\n",
    "            break\n",
    "\n",
    "#can be better defined as\n",
    "\n",
    "def is_armstrong_v2(n):   \n",
    "    n1=str(n)    \n",
    "    l=len(n1)    \n",
    "    temp=n    \n",
    "    s=0    \n",
    "    while n!=0:    \n",
    "        r=n%10    \n",
    "        s=s+(r**3)    \n",
    "        n=n//10    \n",
    "    if s==temp:    \n",
    "        print(\"It is an Armstrong number\")    \n",
    "    else:    \n",
    "        print(\"It is not an Armstrong number \")"
   ]
  },
  {
   "cell_type": "code",
   "execution_count": 7,
   "id": "27a57a53-46b2-4847-951c-d540e415e90a",
   "metadata": {},
   "outputs": [
    {
     "name": "stdout",
     "output_type": "stream",
     "text": [
      "False\n"
     ]
    }
   ],
   "source": [
    "def is_palindrome(num) :\n",
    "    if str(num) == str(num)[::-1]:\n",
    "        return True\n",
    "    return False\n",
    "\n",
    "def is_prime(num) :\n",
    "    n=2\n",
    "    if num<2 :\n",
    "        return False\n",
    "    while n*n<=num:\n",
    "        if num%n == 0:\n",
    "            return False\n",
    "        n+=1\n",
    "    return True\n",
    "\n",
    "print(is_prime(4))"
   ]
  },
  {
   "cell_type": "code",
   "execution_count": 9,
   "id": "3d541c11-e1db-4a07-9f42-34b25bbc914c",
   "metadata": {},
   "outputs": [
    {
     "name": "stdout",
     "output_type": "stream",
     "text": [
      "2: 2\n",
      "6: 3\n",
      "8: 2\n",
      "9: 6\n",
      "a: 2\n"
     ]
    }
   ],
   "source": [
    "#Find Duplicates in a list and their counts\n",
    "def count_duplicates(l1):\n",
    "    s1 = set(l1)\n",
    "    l2 = list(s1)\n",
    "    for i in range(len(l2)):\n",
    "        count = 0\n",
    "        for j in range(len(l1)):\n",
    "            if l2[i]==l1[j] :\n",
    "                count+=1\n",
    "        if count>1 :\n",
    "            print (str(l2[i])+\": \"+str(count))\n",
    "\n",
    "count_duplicates([2,2,5,6,6,6,8,8,9,9,9,9,9,9,'a','a'])"
   ]
  },
  {
   "cell_type": "code",
   "execution_count": 11,
   "id": "9be3390c-87a7-4aa3-b8c6-198268f37220",
   "metadata": {},
   "outputs": [
    {
     "data": {
      "text/plain": [
       "[1, 2, 3, 4, 6, 7]"
      ]
     },
     "execution_count": 11,
     "metadata": {},
     "output_type": "execute_result"
    }
   ],
   "source": [
    "# Flatten a nested list.\n",
    "def flattened_list(l1):\n",
    "    l2 =[]\n",
    "    for i in range(len(l1)):\n",
    "        if type(l1[i]) == list:\n",
    "            l2.extend(flattened_list(l1[i]))\n",
    "        else:\n",
    "            l2.append(l1[i])\n",
    "    return l2\n",
    "\n",
    "flattened_list([[1,2,3],4,[6,7]])"
   ]
  },
  {
   "cell_type": "code",
   "execution_count": 13,
   "id": "92ad6c38-82d5-4081-be88-cfd670bf0e35",
   "metadata": {},
   "outputs": [
    {
     "name": "stdout",
     "output_type": "stream",
     "text": [
      "1\n",
      "2\n",
      "Fizz\n",
      "4\n",
      "Buzz\n",
      "Fizz\n",
      "7\n",
      "8\n",
      "Fizz\n",
      "Buzz\n",
      "11\n",
      "Fizz\n",
      "13\n",
      "14\n",
      "FizzBuzz\n",
      "16\n",
      "17\n",
      "Fizz\n",
      "19\n",
      "Buzz\n"
     ]
    }
   ],
   "source": [
    "def fizzbuzz(n):\n",
    "    for i in range(1,n+1):\n",
    "        if (i%3==0) and (i%5==0):\n",
    "            print('FizzBuzz')\n",
    "        elif i%3==0 :\n",
    "            print('Fizz')\n",
    "        elif i%5==0 :\n",
    "            print('Buzz')\n",
    "        else :\n",
    "            print(i)\n",
    "\n",
    "fizzbuzz(20)"
   ]
  },
  {
   "cell_type": "code",
   "execution_count": null,
   "id": "0176b65d-a21d-4f4f-851f-869e75b176f0",
   "metadata": {},
   "outputs": [],
   "source": [
    "#Given an unsorted list of integers, write a function to return the length of the longest consecutive elements sequence.\n",
    "    \n",
    "def lon_cons_elem(l):\n",
    "  l1=sorted(l)\n",
    "  maxm_length = 1\n",
    "  length = 1\n",
    "  for i in range(0,len(l1)-1):\n",
    "    if l1[i]+1==l1[i+1]:\n",
    "      length+=1\n",
    "      maxm_length = max(length,maxm_length)\n",
    "    else:\n",
    "      length=1\n",
    "  return maxm_length\n",
    "\n",
    "Input_list = [100, 4, 200, 1, 3, 2]\n",
    "print(lon_cons_elem(Input_list))\n"
   ]
  }
 ],
 "metadata": {
  "kernelspec": {
   "display_name": "Python [conda env:base] *",
   "language": "python",
   "name": "conda-base-py"
  },
  "language_info": {
   "codemirror_mode": {
    "name": "ipython",
    "version": 3
   },
   "file_extension": ".py",
   "mimetype": "text/x-python",
   "name": "python",
   "nbconvert_exporter": "python",
   "pygments_lexer": "ipython3",
   "version": "3.9.21"
  }
 },
 "nbformat": 4,
 "nbformat_minor": 5
}
